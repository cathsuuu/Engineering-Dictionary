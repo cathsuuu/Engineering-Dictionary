{
 "cells": [
  {
   "cell_type": "code",
   "execution_count": null,
   "metadata": {},
   "outputs": [],
   "source": [
    "ENGINEERING_TERMS = {\n",
    "    \"BEAM\": \"It is part of the structure that support the load.\",\n",
    "    \"LOAD\": \"The weight or force that a structure or machine must support\",\n",
    "    \"CIRCUIT\": \"A complete path that allows electric current to flow\",\n",
    "    \"TORQUE\": \"A force that causes rotation, like turning a wrench.\",\n",
    "    \"CONCRETE\": \"A material made of cement, sand, and gravel, used in construction.\",\n",
    "    \"COMPASS\": \"A tool for drawing circles or arcs.\",\n",
    "    \"PROTRACTOR\": \"A tool for measuring and drawing angles.\",\n",
    "    \"FRENCH CURVE\": \"A template for drawing smooth curves.\",\n",
    "    \"T-SQUARE\": \"A ruler with a perpendicular head, used for drawing straight lines and right angles.\",\n",
    "    \"SCALE RULER\": \"A ruler with different measurement scales, used in drafting\",\n",
    "    \"CAPACITANCE\": \"The amount of stored electrical potential in a capacitor\",\n",
    "    \"CAD\": \"Used to create and optimized design.\",\n",
    "    \"ACCURACY\": \"The exact/closeness measurement of a one value.\",\n",
    "    \"ACCELERATION\": \"The rate of an onject on how its velocity changes over time\",\n",
    "    \"AMPERE\": \"SI base unit of electric current\",\n",
    "    \"CONDUCTOR\": \"It contains movable electric charges\",\n",
    "    \"AGGREGATE\": \"These are the sands, and small stones that used in road construction\",\n",
    "    \"FOUNDATION\": \"The base of a structure that make it stable\",\n",
    "    \"DRAINAGE\": \"It removes water to an specific area to avoid flooding\",\n",
    "    \"SURVEYING\": \"Measures the land before construction\",\n",
    "    \"REINFORCEMENT\": \"It is a steel bars in a concrete to make more stronger\",\n",
    "    \"COLUMN\": \"A vertical support in a construction\",\n",
    "    \"CURING\": \"It helps the concrete to stay moist to make it stronger\",\n",
    "    \"BEARING\": \"A device that allows movement in a structure\",\n",
    "    \"FOOTING\": \"It is the lower part of the foundation\",\n",
    "    \"MASONRY\": \"A building that with brick and stones\",\n",
    "    \"SHEAR WALL\": \"It allows to resist the side forces\",\n",
    "    \"PILE\": \"A deep foundation post driven into the ground\",\n",
    "    \"GROUT\": \"A fluid that fill the gaps in construction\",\n",
    "    \"CULVERT\": \"A tunnel for water flow\",\n",
    "    \n",
    "    \n",
    "}\n",
    "a = input(\"Say: \")\n",
    "print(ENGINEERING_TERMS[a])"
   ]
  }
 ],
 "metadata": {
  "kernelspec": {
   "display_name": "Python 3 (ipykernel)",
   "language": "python",
   "name": "python3"
  },
  "language_info": {
   "codemirror_mode": {
    "name": "ipython",
    "version": 3
   },
   "file_extension": ".py",
   "mimetype": "text/x-python",
   "name": "python",
   "nbconvert_exporter": "python",
   "pygments_lexer": "ipython3",
   "version": "3.11.0"
  }
 },
 "nbformat": 4,
 "nbformat_minor": 4
}
